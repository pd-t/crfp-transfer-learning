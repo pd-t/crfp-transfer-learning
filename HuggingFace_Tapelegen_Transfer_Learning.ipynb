{
 "cells": [
  {
   "cell_type": "code",
   "execution_count": 3,
   "id": "50973d44",
   "metadata": {},
   "outputs": [
    {
     "name": "stdout",
     "output_type": "stream",
     "text": [
      "Reading package lists... Done\n",
      "Building dependency tree       \n",
      "Reading state information... Done\n",
      "The following NEW packages will be installed:\n",
      "  unzip zip\n",
      "0 upgraded, 2 newly installed, 0 to remove and 50 not upgraded.\n",
      "Need to get 335 kB of archives.\n",
      "After this operation, 1231 kB of additional disk space will be used.\n",
      "Get:1 http://archive.ubuntu.com/ubuntu focal-updates/main amd64 unzip amd64 6.0-25ubuntu1.1 [168 kB]\n",
      "Get:2 http://archive.ubuntu.com/ubuntu focal/main amd64 zip amd64 3.0-11build1 [167 kB]\n",
      "Fetched 335 kB in 1s (480 kB/s)\n",
      "debconf: delaying package configuration, since apt-utils is not installed\n",
      "Selecting previously unselected package unzip.\n",
      "(Reading database ... 25583 files and directories currently installed.)\n",
      "Preparing to unpack .../unzip_6.0-25ubuntu1.1_amd64.deb ...\n",
      "Unpacking unzip (6.0-25ubuntu1.1) ...\n",
      "Selecting previously unselected package zip.\n",
      "Preparing to unpack .../zip_3.0-11build1_amd64.deb ...\n",
      "Unpacking zip (3.0-11build1) ...\n",
      "Setting up unzip (6.0-25ubuntu1.1) ...\n",
      "Setting up zip (3.0-11build1) ...\n",
      "Processing triggers for mime-support (3.64ubuntu1) ...\n"
     ]
    }
   ],
   "source": [
    "#install unzip in notebook\n",
    "!sudo apt-get install -y unzip zip\n"
   ]
  },
  {
   "cell_type": "code",
   "execution_count": 76,
   "id": "8d9198b4",
   "metadata": {},
   "outputs": [
    {
     "name": "stdout",
     "output_type": "stream",
     "text": [
      "Requirement already satisfied: boto3 in /home/ray/anaconda3/lib/python3.8/site-packages (1.4.8)\n",
      "Requirement already satisfied: datasets in /home/ray/anaconda3/lib/python3.8/site-packages (2.12.0)\n",
      "Requirement already satisfied: jmespath<1.0.0,>=0.7.1 in /home/ray/anaconda3/lib/python3.8/site-packages (from boto3) (0.10.0)\n",
      "Collecting botocore<1.9.0,>=1.8.0\n",
      "  Downloading botocore-1.8.50-py2.py3-none-any.whl (4.1 MB)\n",
      "\u001b[2K     \u001b[90m━━━━━━━━━━━━━━━━━━━━━━━━━━━━━━━━━━━━━━━━\u001b[0m \u001b[32m4.1/4.1 MB\u001b[0m \u001b[31m36.9 MB/s\u001b[0m eta \u001b[36m0:00:00\u001b[0m00:01\u001b[0m00:01\u001b[0m\n",
      "\u001b[?25hCollecting s3transfer<0.2.0,>=0.1.10\n",
      "  Downloading s3transfer-0.1.13-py2.py3-none-any.whl (59 kB)\n",
      "\u001b[2K     \u001b[90m━━━━━━━━━━━━━━━━━━━━━━━━━━━━━━━━━━━━━━━━\u001b[0m \u001b[32m59.6/59.6 kB\u001b[0m \u001b[31m1.6 MB/s\u001b[0m eta \u001b[36m0:00:00\u001b[0m\n",
      "\u001b[?25hRequirement already satisfied: fsspec[http]>=2021.11.1 in /home/ray/anaconda3/lib/python3.8/site-packages (from datasets) (2022.11.0)\n",
      "Requirement already satisfied: packaging in /home/ray/anaconda3/lib/python3.8/site-packages (from datasets) (21.3)\n",
      "Requirement already satisfied: pandas in /home/ray/anaconda3/lib/python3.8/site-packages (from datasets) (1.5.3)\n",
      "Requirement already satisfied: pyarrow>=8.0.0 in /home/ray/anaconda3/lib/python3.8/site-packages (from datasets) (12.0.0)\n",
      "Requirement already satisfied: dill<0.3.7,>=0.3.0 in /home/ray/anaconda3/lib/python3.8/site-packages (from datasets) (0.3.6)\n",
      "Requirement already satisfied: tqdm>=4.62.1 in /home/ray/anaconda3/lib/python3.8/site-packages (from datasets) (4.63.0)\n",
      "Requirement already satisfied: huggingface-hub<1.0.0,>=0.11.0 in /home/ray/anaconda3/lib/python3.8/site-packages (from datasets) (0.13.3)\n",
      "Requirement already satisfied: multiprocess in /home/ray/anaconda3/lib/python3.8/site-packages (from datasets) (0.70.14)\n",
      "Requirement already satisfied: responses<0.19 in /home/ray/anaconda3/lib/python3.8/site-packages (from datasets) (0.18.0)\n",
      "Requirement already satisfied: requests>=2.19.0 in /home/ray/anaconda3/lib/python3.8/site-packages (from datasets) (2.27.1)\n",
      "Requirement already satisfied: aiohttp in /home/ray/anaconda3/lib/python3.8/site-packages (from datasets) (3.8.3)\n",
      "Requirement already satisfied: xxhash in /home/ray/anaconda3/lib/python3.8/site-packages (from datasets) (3.2.0)\n",
      "Requirement already satisfied: numpy>=1.17 in /home/ray/anaconda3/lib/python3.8/site-packages (from datasets) (1.23.5)\n",
      "Requirement already satisfied: pyyaml>=5.1 in /home/ray/anaconda3/lib/python3.8/site-packages (from datasets) (5.4.1)\n",
      "Requirement already satisfied: python-dateutil<3.0.0,>=2.1 in /home/ray/anaconda3/lib/python3.8/site-packages (from botocore<1.9.0,>=1.8.0->boto3) (2.8.2)\n",
      "Requirement already satisfied: docutils>=0.10 in /home/ray/anaconda3/lib/python3.8/site-packages (from botocore<1.9.0,>=1.8.0->boto3) (0.16)\n",
      "Requirement already satisfied: async-timeout<5.0,>=4.0.0a3 in /home/ray/anaconda3/lib/python3.8/site-packages (from aiohttp->datasets) (4.0.2)\n",
      "Requirement already satisfied: multidict<7.0,>=4.5 in /home/ray/anaconda3/lib/python3.8/site-packages (from aiohttp->datasets) (6.0.3)\n",
      "Requirement already satisfied: charset-normalizer<3.0,>=2.0 in /home/ray/anaconda3/lib/python3.8/site-packages (from aiohttp->datasets) (2.0.4)\n",
      "Requirement already satisfied: yarl<2.0,>=1.0 in /home/ray/anaconda3/lib/python3.8/site-packages (from aiohttp->datasets) (1.8.2)\n",
      "Requirement already satisfied: frozenlist>=1.1.1 in /home/ray/anaconda3/lib/python3.8/site-packages (from aiohttp->datasets) (1.3.3)\n",
      "Requirement already satisfied: aiosignal>=1.1.2 in /home/ray/anaconda3/lib/python3.8/site-packages (from aiohttp->datasets) (1.3.1)\n",
      "Requirement already satisfied: attrs>=17.3.0 in /home/ray/anaconda3/lib/python3.8/site-packages (from aiohttp->datasets) (22.1.0)\n",
      "Requirement already satisfied: filelock in /home/ray/anaconda3/lib/python3.8/site-packages (from huggingface-hub<1.0.0,>=0.11.0->datasets) (3.8.2)\n",
      "Requirement already satisfied: typing-extensions>=3.7.4.3 in /home/ray/anaconda3/lib/python3.8/site-packages (from huggingface-hub<1.0.0,>=0.11.0->datasets) (4.4.0)\n",
      "Requirement already satisfied: pyparsing!=3.0.5,>=2.0.2 in /home/ray/anaconda3/lib/python3.8/site-packages (from packaging->datasets) (3.0.9)\n",
      "Requirement already satisfied: certifi>=2017.4.17 in /home/ray/anaconda3/lib/python3.8/site-packages (from requests>=2.19.0->datasets) (2022.9.24)\n",
      "Requirement already satisfied: idna<4,>=2.5 in /home/ray/anaconda3/lib/python3.8/site-packages (from requests>=2.19.0->datasets) (3.3)\n",
      "Requirement already satisfied: urllib3<1.27,>=1.21.1 in /home/ray/anaconda3/lib/python3.8/site-packages (from requests>=2.19.0->datasets) (1.26.8)\n",
      "Requirement already satisfied: pytz>=2020.1 in /home/ray/anaconda3/lib/python3.8/site-packages (from pandas->datasets) (2022.6)\n",
      "Requirement already satisfied: six>=1.5 in /home/ray/anaconda3/lib/python3.8/site-packages (from python-dateutil<3.0.0,>=2.1->botocore<1.9.0,>=1.8.0->boto3) (1.13.0)\n",
      "Installing collected packages: botocore, s3transfer\n",
      "  Attempting uninstall: botocore\n",
      "    Found existing installation: botocore 1.29.97\n",
      "    Uninstalling botocore-1.29.97:\n",
      "      Successfully uninstalled botocore-1.29.97\n",
      "  Attempting uninstall: s3transfer\n",
      "    Found existing installation: s3transfer 0.6.0\n",
      "    Uninstalling s3transfer-0.6.0:\n",
      "      Successfully uninstalled s3transfer-0.6.0\n",
      "\u001b[31mERROR: pip's dependency resolver does not currently take into account all the packages that are installed. This behaviour is the source of the following dependency conflicts.\n",
      "s3fs 0.4.2 requires botocore>=1.12.91, but you have botocore 1.8.50 which is incompatible.\n",
      "awscli 1.27.97 requires botocore==1.29.97, but you have botocore 1.8.50 which is incompatible.\n",
      "awscli 1.27.97 requires s3transfer<0.7.0,>=0.6.0, but you have s3transfer 0.1.13 which is incompatible.\u001b[0m\u001b[31m\n",
      "\u001b[0mSuccessfully installed botocore-1.8.50 s3transfer-0.1.13\n",
      "\n",
      "\u001b[1m[\u001b[0m\u001b[34;49mnotice\u001b[0m\u001b[1;39;49m]\u001b[0m\u001b[39;49m A new release of pip is available: \u001b[0m\u001b[31;49m23.0.1\u001b[0m\u001b[39;49m -> \u001b[0m\u001b[32;49m23.1.2\u001b[0m\n",
      "\u001b[1m[\u001b[0m\u001b[34;49mnotice\u001b[0m\u001b[1;39;49m]\u001b[0m\u001b[39;49m To update, run: \u001b[0m\u001b[32;49mpip install --upgrade pip\u001b[0m\n"
     ]
    }
   ],
   "source": [
    "!pip install boto3 datasets"
   ]
  },
  {
   "cell_type": "code",
   "execution_count": 38,
   "id": "445cfde9",
   "metadata": {},
   "outputs": [],
   "source": [
    "import boto3\n",
    "\n",
    "s3 = boto3.resource('s3', endpoint_url='https://storage.s3.mlops.wogra.com')\n",
    "bucket = s3.Bucket('data')"
   ]
  },
  {
   "cell_type": "code",
   "execution_count": 9,
   "id": "d8b4a396",
   "metadata": {},
   "outputs": [],
   "source": [
    "bucket.download_file('dlr/dataset_tapelegen.zip', 'data.zip')"
   ]
  },
  {
   "cell_type": "code",
   "execution_count": 10,
   "id": "9f2fc685",
   "metadata": {},
   "outputs": [
    {
     "name": "stdout",
     "output_type": "stream",
     "text": [
      "Archive:  data.zip\n",
      "   creating: data/dataset_tapelegen/\n",
      "  inflating: data/dataset_tapelegen/dataset_info.json  \n",
      "  inflating: data/dataset_tapelegen/data-00001-of-00003.arrow  \n",
      "  inflating: data/dataset_tapelegen/state.json  \n",
      "  inflating: data/dataset_tapelegen/data-00000-of-00003.arrow  \n",
      "  inflating: data/dataset_tapelegen/data-00002-of-00003.arrow  \n",
      " extracting: data/dataset_tapelegen/dataset_dict.json  \n",
      "   creating: data/dataset_tapelegen/train/\n",
      "  inflating: data/dataset_tapelegen/train/dataset_info.json  \n",
      "  inflating: data/dataset_tapelegen/train/data-00001-of-00003.arrow  \n",
      "  inflating: data/dataset_tapelegen/train/state.json  \n",
      "  inflating: data/dataset_tapelegen/train/data-00000-of-00003.arrow  \n",
      "  inflating: data/dataset_tapelegen/train/data-00002-of-00003.arrow  \n"
     ]
    }
   ],
   "source": [
    "# extreact zip file to data folder\n",
    "!rm -r data\n",
    "!unzip data.zip -d data"
   ]
  },
  {
   "cell_type": "code",
   "execution_count": 11,
   "id": "d8488732",
   "metadata": {},
   "outputs": [
    {
     "name": "stdout",
     "output_type": "stream",
     "text": [
      "Requirement already satisfied: datasets in /home/ray/anaconda3/lib/python3.8/site-packages (2.12.0)\n",
      "Requirement already satisfied: aiohttp in /home/ray/anaconda3/lib/python3.8/site-packages (from datasets) (3.8.3)\n",
      "Requirement already satisfied: responses<0.19 in /home/ray/anaconda3/lib/python3.8/site-packages (from datasets) (0.18.0)\n",
      "Requirement already satisfied: multiprocess in /home/ray/anaconda3/lib/python3.8/site-packages (from datasets) (0.70.14)\n",
      "Requirement already satisfied: packaging in /home/ray/anaconda3/lib/python3.8/site-packages (from datasets) (21.3)\n",
      "Requirement already satisfied: dill<0.3.7,>=0.3.0 in /home/ray/anaconda3/lib/python3.8/site-packages (from datasets) (0.3.6)\n",
      "Requirement already satisfied: pyyaml>=5.1 in /home/ray/anaconda3/lib/python3.8/site-packages (from datasets) (5.4.1)\n",
      "Requirement already satisfied: xxhash in /home/ray/anaconda3/lib/python3.8/site-packages (from datasets) (3.2.0)\n",
      "Requirement already satisfied: huggingface-hub<1.0.0,>=0.11.0 in /home/ray/anaconda3/lib/python3.8/site-packages (from datasets) (0.13.3)\n",
      "Requirement already satisfied: tqdm>=4.62.1 in /home/ray/anaconda3/lib/python3.8/site-packages (from datasets) (4.63.0)\n",
      "Requirement already satisfied: numpy>=1.17 in /home/ray/anaconda3/lib/python3.8/site-packages (from datasets) (1.23.5)\n",
      "Requirement already satisfied: fsspec[http]>=2021.11.1 in /home/ray/anaconda3/lib/python3.8/site-packages (from datasets) (2022.11.0)\n",
      "Requirement already satisfied: requests>=2.19.0 in /home/ray/anaconda3/lib/python3.8/site-packages (from datasets) (2.27.1)\n",
      "Requirement already satisfied: pyarrow>=8.0.0 in /home/ray/anaconda3/lib/python3.8/site-packages (from datasets) (12.0.0)\n",
      "Requirement already satisfied: pandas in /home/ray/anaconda3/lib/python3.8/site-packages (from datasets) (1.5.3)\n",
      "Requirement already satisfied: frozenlist>=1.1.1 in /home/ray/anaconda3/lib/python3.8/site-packages (from aiohttp->datasets) (1.3.3)\n",
      "Requirement already satisfied: aiosignal>=1.1.2 in /home/ray/anaconda3/lib/python3.8/site-packages (from aiohttp->datasets) (1.3.1)\n",
      "Requirement already satisfied: multidict<7.0,>=4.5 in /home/ray/anaconda3/lib/python3.8/site-packages (from aiohttp->datasets) (6.0.3)\n",
      "Requirement already satisfied: yarl<2.0,>=1.0 in /home/ray/anaconda3/lib/python3.8/site-packages (from aiohttp->datasets) (1.8.2)\n",
      "Requirement already satisfied: charset-normalizer<3.0,>=2.0 in /home/ray/anaconda3/lib/python3.8/site-packages (from aiohttp->datasets) (2.0.4)\n",
      "Requirement already satisfied: attrs>=17.3.0 in /home/ray/anaconda3/lib/python3.8/site-packages (from aiohttp->datasets) (22.1.0)\n",
      "Requirement already satisfied: async-timeout<5.0,>=4.0.0a3 in /home/ray/anaconda3/lib/python3.8/site-packages (from aiohttp->datasets) (4.0.2)\n",
      "Requirement already satisfied: typing-extensions>=3.7.4.3 in /home/ray/anaconda3/lib/python3.8/site-packages (from huggingface-hub<1.0.0,>=0.11.0->datasets) (4.4.0)\n",
      "Requirement already satisfied: filelock in /home/ray/anaconda3/lib/python3.8/site-packages (from huggingface-hub<1.0.0,>=0.11.0->datasets) (3.8.2)\n",
      "Requirement already satisfied: pyparsing!=3.0.5,>=2.0.2 in /home/ray/anaconda3/lib/python3.8/site-packages (from packaging->datasets) (3.0.9)\n",
      "Requirement already satisfied: urllib3<1.27,>=1.21.1 in /home/ray/anaconda3/lib/python3.8/site-packages (from requests>=2.19.0->datasets) (1.26.8)\n",
      "Requirement already satisfied: certifi>=2017.4.17 in /home/ray/anaconda3/lib/python3.8/site-packages (from requests>=2.19.0->datasets) (2022.9.24)\n",
      "Requirement already satisfied: idna<4,>=2.5 in /home/ray/anaconda3/lib/python3.8/site-packages (from requests>=2.19.0->datasets) (3.3)\n",
      "Requirement already satisfied: pytz>=2020.1 in /home/ray/anaconda3/lib/python3.8/site-packages (from pandas->datasets) (2022.6)\n",
      "Requirement already satisfied: python-dateutil>=2.8.1 in /home/ray/anaconda3/lib/python3.8/site-packages (from pandas->datasets) (2.8.2)\n",
      "Requirement already satisfied: six>=1.5 in /home/ray/anaconda3/lib/python3.8/site-packages (from python-dateutil>=2.8.1->pandas->datasets) (1.13.0)\n",
      "\n",
      "\u001b[1m[\u001b[0m\u001b[34;49mnotice\u001b[0m\u001b[1;39;49m]\u001b[0m\u001b[39;49m A new release of pip is available: \u001b[0m\u001b[31;49m23.0.1\u001b[0m\u001b[39;49m -> \u001b[0m\u001b[32;49m23.1.2\u001b[0m\n",
      "\u001b[1m[\u001b[0m\u001b[34;49mnotice\u001b[0m\u001b[1;39;49m]\u001b[0m\u001b[39;49m To update, run: \u001b[0m\u001b[32;49mpip install --upgrade pip\u001b[0m\n"
     ]
    }
   ],
   "source": [
    "!pip install datasets"
   ]
  },
  {
   "cell_type": "code",
   "execution_count": 12,
   "id": "1c2f48c4",
   "metadata": {},
   "outputs": [
    {
     "name": "stderr",
     "output_type": "stream",
     "text": [
      "Loading cached shuffled indices for dataset at /home/jovyan/work/data/dataset_tapelegen/cache-fffa42af9c821476.arrow\n"
     ]
    },
    {
     "data": {
      "text/plain": [
       "Dataset({\n",
       "    features: ['image', 'label'],\n",
       "    num_rows: 73749\n",
       "})"
      ]
     },
     "execution_count": 12,
     "metadata": {},
     "output_type": "execute_result"
    }
   ],
   "source": [
    "# create a dataset for images in the folders and use the folder name as label\n",
    "from datasets import load_from_disk\n",
    "\n",
    "dataset = load_from_disk(\"data/dataset_tapelegen/\")\n",
    "\n",
    "# take random seed of examples from dataset\n",
    "dataset = dataset.shuffle(seed=42)\n",
    "dataset\n"
   ]
  },
  {
   "cell_type": "code",
   "execution_count": 13,
   "id": "7ec86baa",
   "metadata": {},
   "outputs": [
    {
     "name": "stderr",
     "output_type": "stream",
     "text": [
      "Loading cached processed dataset at /home/jovyan/work/data/dataset_tapelegen/cache-2ec92fc4d37af4eb.arrow\n"
     ]
    }
   ],
   "source": [
    "# remove all items from dataset with mean 0 but dont use remove rows which not exists as method\n",
    "import numpy as np\n",
    "clean_dataset = dataset.filter(lambda example: np.mean(example[\"image\"]) != 0)\n",
    "clean_dataset"
   ]
  },
  {
   "cell_type": "code",
   "execution_count": 15,
   "id": "bb5199ae",
   "metadata": {},
   "outputs": [
    {
     "name": "stdout",
     "output_type": "stream",
     "text": [
      "Requirement already satisfied: transformers==4.26.1 in /home/ray/anaconda3/lib/python3.8/site-packages (4.26.1)\n",
      "Requirement already satisfied: evaluate in /home/ray/anaconda3/lib/python3.8/site-packages (0.4.0)\n",
      "Requirement already satisfied: pyyaml>=5.1 in /home/ray/anaconda3/lib/python3.8/site-packages (from transformers==4.26.1) (5.4.1)\n",
      "Requirement already satisfied: requests in /home/ray/anaconda3/lib/python3.8/site-packages (from transformers==4.26.1) (2.27.1)\n",
      "Requirement already satisfied: packaging>=20.0 in /home/ray/anaconda3/lib/python3.8/site-packages (from transformers==4.26.1) (21.3)\n",
      "Requirement already satisfied: tokenizers!=0.11.3,<0.14,>=0.11.1 in /home/ray/anaconda3/lib/python3.8/site-packages (from transformers==4.26.1) (0.12.1)\n",
      "Requirement already satisfied: huggingface-hub<1.0,>=0.11.0 in /home/ray/anaconda3/lib/python3.8/site-packages (from transformers==4.26.1) (0.13.3)\n",
      "Requirement already satisfied: numpy>=1.17 in /home/ray/anaconda3/lib/python3.8/site-packages (from transformers==4.26.1) (1.23.5)\n",
      "Requirement already satisfied: regex!=2019.12.17 in /home/ray/anaconda3/lib/python3.8/site-packages (from transformers==4.26.1) (2023.3.22)\n",
      "Requirement already satisfied: tqdm>=4.27 in /home/ray/anaconda3/lib/python3.8/site-packages (from transformers==4.26.1) (4.63.0)\n",
      "Requirement already satisfied: filelock in /home/ray/anaconda3/lib/python3.8/site-packages (from transformers==4.26.1) (3.8.2)\n",
      "Requirement already satisfied: dill in /home/ray/anaconda3/lib/python3.8/site-packages (from evaluate) (0.3.6)\n",
      "Requirement already satisfied: fsspec[http]>=2021.05.0 in /home/ray/anaconda3/lib/python3.8/site-packages (from evaluate) (2022.11.0)\n",
      "Requirement already satisfied: pandas in /home/ray/anaconda3/lib/python3.8/site-packages (from evaluate) (1.5.3)\n",
      "Requirement already satisfied: multiprocess in /home/ray/anaconda3/lib/python3.8/site-packages (from evaluate) (0.70.14)\n",
      "Requirement already satisfied: xxhash in /home/ray/anaconda3/lib/python3.8/site-packages (from evaluate) (3.2.0)\n",
      "Requirement already satisfied: datasets>=2.0.0 in /home/ray/anaconda3/lib/python3.8/site-packages (from evaluate) (2.12.0)\n",
      "Requirement already satisfied: responses<0.19 in /home/ray/anaconda3/lib/python3.8/site-packages (from evaluate) (0.18.0)\n",
      "Requirement already satisfied: pyarrow>=8.0.0 in /home/ray/anaconda3/lib/python3.8/site-packages (from datasets>=2.0.0->evaluate) (12.0.0)\n",
      "Requirement already satisfied: aiohttp in /home/ray/anaconda3/lib/python3.8/site-packages (from datasets>=2.0.0->evaluate) (3.8.3)\n",
      "Requirement already satisfied: typing-extensions>=3.7.4.3 in /home/ray/anaconda3/lib/python3.8/site-packages (from huggingface-hub<1.0,>=0.11.0->transformers==4.26.1) (4.4.0)\n",
      "Requirement already satisfied: pyparsing!=3.0.5,>=2.0.2 in /home/ray/anaconda3/lib/python3.8/site-packages (from packaging>=20.0->transformers==4.26.1) (3.0.9)\n",
      "Requirement already satisfied: charset-normalizer~=2.0.0 in /home/ray/anaconda3/lib/python3.8/site-packages (from requests->transformers==4.26.1) (2.0.4)\n",
      "Requirement already satisfied: certifi>=2017.4.17 in /home/ray/anaconda3/lib/python3.8/site-packages (from requests->transformers==4.26.1) (2022.9.24)\n",
      "Requirement already satisfied: idna<4,>=2.5 in /home/ray/anaconda3/lib/python3.8/site-packages (from requests->transformers==4.26.1) (3.3)\n",
      "Requirement already satisfied: urllib3<1.27,>=1.21.1 in /home/ray/anaconda3/lib/python3.8/site-packages (from requests->transformers==4.26.1) (1.26.8)\n",
      "Requirement already satisfied: pytz>=2020.1 in /home/ray/anaconda3/lib/python3.8/site-packages (from pandas->evaluate) (2022.6)\n",
      "Requirement already satisfied: python-dateutil>=2.8.1 in /home/ray/anaconda3/lib/python3.8/site-packages (from pandas->evaluate) (2.8.2)\n",
      "Requirement already satisfied: attrs>=17.3.0 in /home/ray/anaconda3/lib/python3.8/site-packages (from aiohttp->datasets>=2.0.0->evaluate) (22.1.0)\n",
      "Requirement already satisfied: multidict<7.0,>=4.5 in /home/ray/anaconda3/lib/python3.8/site-packages (from aiohttp->datasets>=2.0.0->evaluate) (6.0.3)\n",
      "Requirement already satisfied: aiosignal>=1.1.2 in /home/ray/anaconda3/lib/python3.8/site-packages (from aiohttp->datasets>=2.0.0->evaluate) (1.3.1)\n",
      "Requirement already satisfied: async-timeout<5.0,>=4.0.0a3 in /home/ray/anaconda3/lib/python3.8/site-packages (from aiohttp->datasets>=2.0.0->evaluate) (4.0.2)\n",
      "Requirement already satisfied: yarl<2.0,>=1.0 in /home/ray/anaconda3/lib/python3.8/site-packages (from aiohttp->datasets>=2.0.0->evaluate) (1.8.2)\n",
      "Requirement already satisfied: frozenlist>=1.1.1 in /home/ray/anaconda3/lib/python3.8/site-packages (from aiohttp->datasets>=2.0.0->evaluate) (1.3.3)\n",
      "Requirement already satisfied: six>=1.5 in /home/ray/anaconda3/lib/python3.8/site-packages (from python-dateutil>=2.8.1->pandas->evaluate) (1.13.0)\n",
      "\n",
      "\u001b[1m[\u001b[0m\u001b[34;49mnotice\u001b[0m\u001b[1;39;49m]\u001b[0m\u001b[39;49m A new release of pip is available: \u001b[0m\u001b[31;49m23.0.1\u001b[0m\u001b[39;49m -> \u001b[0m\u001b[32;49m23.1.2\u001b[0m\n",
      "\u001b[1m[\u001b[0m\u001b[34;49mnotice\u001b[0m\u001b[1;39;49m]\u001b[0m\u001b[39;49m To update, run: \u001b[0m\u001b[32;49mpip install --upgrade pip\u001b[0m\n"
     ]
    }
   ],
   "source": [
    "!pip install transformers==4.26.1 evaluate"
   ]
  },
  {
   "cell_type": "code",
   "execution_count": 18,
   "id": "a2f6fdaf",
   "metadata": {},
   "outputs": [
    {
     "name": "stdout",
     "output_type": "stream",
     "text": [
      "{'height': 224, 'width': 224}\n",
      "[0.5, 0.5, 0.5]\n",
      "[0.5, 0.5, 0.5]\n"
     ]
    }
   ],
   "source": [
    "import transformers\n",
    "\n",
    "checkpoint = \"google/vit-base-patch16-224-in21k\"\n",
    "\n",
    "feature_extractor = transformers.AutoFeatureExtractor.from_pretrained(\n",
    "    checkpoint\n",
    ")\n",
    "print(feature_extractor.size)\n",
    "print(feature_extractor.image_mean)\n",
    "print(feature_extractor.image_std)"
   ]
  },
  {
   "cell_type": "code",
   "execution_count": 19,
   "id": "827d3fa3",
   "metadata": {},
   "outputs": [],
   "source": [
    "labels = clean_dataset.features[\"label\"].names\n",
    "\n",
    "label2id, id2label = dict(), dict()\n",
    "\n",
    "for i, label in enumerate(labels):\n",
    "    label2id[label] = str(i)\n",
    "    id2label[str(i)] = label"
   ]
  },
  {
   "cell_type": "code",
   "execution_count": 20,
   "id": "94b74da5",
   "metadata": {},
   "outputs": [
    {
     "data": {
      "text/plain": [
       "{'0': 'g', '1': 'n', '2': 'o'}"
      ]
     },
     "execution_count": 20,
     "metadata": {},
     "output_type": "execute_result"
    }
   ],
   "source": [
    "id2label"
   ]
  },
  {
   "cell_type": "code",
   "execution_count": 21,
   "id": "f061fc93",
   "metadata": {},
   "outputs": [
    {
     "data": {
      "text/plain": [
       "{'g': '0', 'n': '1', 'o': '2'}"
      ]
     },
     "execution_count": 21,
     "metadata": {},
     "output_type": "execute_result"
    }
   ],
   "source": [
    "label2id"
   ]
  },
  {
   "cell_type": "code",
   "execution_count": 22,
   "id": "deeab044",
   "metadata": {},
   "outputs": [],
   "source": [
    "labelids = [int(id) for id in id2label.keys()]"
   ]
  },
  {
   "cell_type": "code",
   "execution_count": 23,
   "id": "3ad6a2ab",
   "metadata": {},
   "outputs": [
    {
     "name": "stderr",
     "output_type": "stream",
     "text": [
      "Some weights of the model checkpoint at google/vit-base-patch16-224-in21k were not used when initializing ViTForImageClassification: ['pooler.dense.bias', 'pooler.dense.weight']\n",
      "- This IS expected if you are initializing ViTForImageClassification from the checkpoint of a model trained on another task or with another architecture (e.g. initializing a BertForSequenceClassification model from a BertForPreTraining model).\n",
      "- This IS NOT expected if you are initializing ViTForImageClassification from the checkpoint of a model that you expect to be exactly identical (initializing a BertForSequenceClassification model from a BertForSequenceClassification model).\n",
      "Some weights of ViTForImageClassification were not initialized from the model checkpoint at google/vit-base-patch16-224-in21k and are newly initialized: ['classifier.weight', 'classifier.bias']\n",
      "You should probably TRAIN this model on a down-stream task to be able to use it for predictions and inference.\n"
     ]
    }
   ],
   "source": [
    "\n",
    "from transformers import AutoModelForImageClassification\n",
    "\n",
    "model = AutoModelForImageClassification.from_pretrained(\n",
    "    checkpoint,\n",
    "    num_labels=len(labels),\n",
    "    id2label=id2label,\n",
    "    label2id=label2id,\n",
    ")"
   ]
  },
  {
   "cell_type": "code",
   "execution_count": 24,
   "id": "01fe603f",
   "metadata": {},
   "outputs": [],
   "source": [
    "\n",
    "from transformers import TrainingArguments\n",
    "\n",
    "batch_size = 14*16\n",
    "\n",
    "training_args = TrainingArguments(\n",
    "    output_dir=\"my_tapelegen_model\",\n",
    "    remove_unused_columns=False,\n",
    "    evaluation_strategy=\"epoch\",\n",
    "    save_strategy=\"epoch\",\n",
    "    learning_rate=5e-5,\n",
    "    per_device_train_batch_size=batch_size,\n",
    "    gradient_accumulation_steps=4,\n",
    "    per_device_eval_batch_size=batch_size,\n",
    "    num_train_epochs=10,\n",
    "    warmup_ratio=0.1,\n",
    "    logging_steps=10,\n",
    "    load_best_model_at_end=True,\n",
    "    metric_for_best_model=\"accuracy\"\n",
    ")\n"
   ]
  },
  {
   "cell_type": "code",
   "execution_count": 25,
   "id": "ca67abd4",
   "metadata": {},
   "outputs": [],
   "source": [
    "import evaluate\n",
    "from transformers import DefaultDataCollator\n",
    "\n",
    "data_collator = DefaultDataCollator()\n",
    "\n",
    "accuracy = evaluate.load(\"accuracy\")\n",
    "\n",
    "import numpy as np\n",
    "def compute_metrics(eval_pred):\n",
    "    predictions, labels = eval_pred\n",
    "    predictions = np.argmax(predictions, axis=1)\n",
    "    return accuracy.compute(predictions=predictions, references=labels)"
   ]
  },
  {
   "cell_type": "code",
   "execution_count": 26,
   "id": "2238dd9a",
   "metadata": {},
   "outputs": [],
   "source": [
    "from transformers import AutoImageProcessor\n",
    "\n",
    "image_processor = AutoImageProcessor.from_pretrained(checkpoint)"
   ]
  },
  {
   "cell_type": "code",
   "execution_count": 29,
   "id": "c864cc88",
   "metadata": {},
   "outputs": [
    {
     "name": "stderr",
     "output_type": "stream",
     "text": [
      "Loading cached processed dataset at /home/jovyan/work/data/dataset_tapelegen/cache-1ec5ee3afb565a54.arrow\n",
      "Loading cached processed dataset at /home/jovyan/work/data/dataset_tapelegen/cache-a9940fc71d5427d0.arrow\n",
      "Loading cached processed dataset at /home/jovyan/work/data/dataset_tapelegen/cache-7a08c809abd2881d.arrow\n"
     ]
    },
    {
     "data": {
      "text/plain": [
       "Dataset({\n",
       "    features: ['image', 'label'],\n",
       "    num_rows: 8707\n",
       "})"
      ]
     },
     "execution_count": 29,
     "metadata": {},
     "output_type": "execute_result"
    }
   ],
   "source": [
    "sorted_datasets = [clean_dataset.filter(lambda example: example[\"label\"] == labelid, batch_size=1024) for labelid in labelids]\n",
    "sorted_datasets[0]"
   ]
  },
  {
   "cell_type": "code",
   "execution_count": 30,
   "id": "edc83498",
   "metadata": {},
   "outputs": [
    {
     "data": {
      "text/plain": [
       "3248"
      ]
     },
     "execution_count": 30,
     "metadata": {},
     "output_type": "execute_result"
    }
   ],
   "source": [
    "# get the minimum number of examples in the dataset with respect to the label\n",
    "min_examples = min(data.num_rows for data in sorted_datasets)\n",
    "min_examples"
   ]
  },
  {
   "cell_type": "code",
   "execution_count": 31,
   "id": "04a17ae0",
   "metadata": {},
   "outputs": [
    {
     "data": {
      "text/plain": [
       "0"
      ]
     },
     "execution_count": 31,
     "metadata": {},
     "output_type": "execute_result"
    }
   ],
   "source": [
    "from datasets import concatenate_datasets\n",
    "\n",
    "weighted_dataset = concatenate_datasets(\n",
    "    [\n",
    "        fd.shuffle(seed=42).select(range(min_examples)) for fd in sorted_datasets\n",
    "    ]  \n",
    ")\n",
    "\n",
    "weighted_dataset.num_rows - 3*min_examples"
   ]
  },
  {
   "cell_type": "code",
   "execution_count": 32,
   "id": "b109ea79",
   "metadata": {},
   "outputs": [],
   "source": [
    "# 90% train, 10% test + validation\n",
    "split_one = weighted_dataset.train_test_split(test_size=0.2, seed=42)"
   ]
  },
  {
   "cell_type": "code",
   "execution_count": 33,
   "id": "463f18e0",
   "metadata": {},
   "outputs": [],
   "source": [
    "# Split the 10% test + valid in half test, half valid\n",
    "split_two = split_one['test'].train_test_split(test_size=0.5, seed=42)"
   ]
  },
  {
   "cell_type": "code",
   "execution_count": 36,
   "id": "bcfec18f",
   "metadata": {},
   "outputs": [
    {
     "name": "stderr",
     "output_type": "stream",
     "text": [
      "                                                                                              \r"
     ]
    }
   ],
   "source": [
    "from datasets import DatasetDict\n",
    "\n",
    "train_test_valid_dataset = DatasetDict({\n",
    "    \"train\": split_one[\"train\"],\n",
    "    \"validate\": split_two[\"train\"],\n",
    "    \"test\": split_two[\"test\"]})\n"
   ]
  },
  {
   "cell_type": "code",
   "execution_count": 40,
   "id": "abac4aee",
   "metadata": {},
   "outputs": [
    {
     "name": "stderr",
     "output_type": "stream",
     "text": [
      "                                                                                              \r"
     ]
    },
    {
     "name": "stdout",
     "output_type": "stream",
     "text": [
      "updating: train_test_valid_dataset/ (stored 0%)\n",
      "updating: train_test_valid_dataset/dataset_dict.json (deflated 2%)\n",
      "updating: train_test_valid_dataset/validate/ (stored 0%)\n",
      "updating: train_test_valid_dataset/validate/dataset_info.json (deflated 52%)\n",
      "updating: train_test_valid_dataset/validate/state.json (deflated 40%)\n",
      "updating: train_test_valid_dataset/validate/data-00000-of-00001.arrow (deflated 2%)\n",
      "updating: train_test_valid_dataset/train/ (stored 0%)\n",
      "updating: train_test_valid_dataset/train/dataset_info.json (deflated 52%)\n",
      "updating: train_test_valid_dataset/train/state.json (deflated 40%)\n",
      "updating: train_test_valid_dataset/train/data-00000-of-00001.arrow (deflated 2%)\n",
      "updating: train_test_valid_dataset/test/ (stored 0%)\n",
      "updating: train_test_valid_dataset/test/dataset_info.json (deflated 52%)\n",
      "updating: train_test_valid_dataset/test/state.json (deflated 40%)\n",
      "updating: train_test_valid_dataset/test/data-00000-of-00001.arrow (deflated 2%)\n"
     ]
    }
   ],
   "source": [
    "train_test_valid_dataset.save_to_disk(\"train_test_valid_dataset\")\n",
    "!zip -r train_test_valid_dataset.zip train_test_valid_dataset \n",
    "bucket.upload_file('train_test_valid_dataset.zip', 'dlr/train_test_valid_dataset.zip')"
   ]
  },
  {
   "cell_type": "code",
   "execution_count": 41,
   "id": "1b8f6624",
   "metadata": {},
   "outputs": [],
   "source": [
    "from torchvision import transforms\n",
    "import numpy as np\n",
    "\n",
    "def preprocess(image):\n",
    "    # convert image to tensor\n",
    "    tensor = transforms.ToTensor()(image)\n",
    "    tensor = tensor - np.mean(tensor.numpy()) + 128\n",
    "    tensor[tensor < 0] = 0\n",
    "    tensor[tensor > 255] = 255\n",
    "    tensor = tensor / 255\n",
    "    # repeat the tensor two ore times to get 3 channels and use the repeat function\n",
    "    tensor = tensor.repeat(3, 1, 1)\n",
    "    return tensor\n",
    "\n",
    "\n",
    "class Preprocess:\n",
    "    def __init__(self):\n",
    "        self.transforms = transforms.Compose(\n",
    "            [\n",
    "                transforms.Lambda(preprocess),\n",
    "                transforms.CenterCrop(224),\n",
    "            ]\n",
    "        )\n",
    "\n",
    "    def __call__(self, example_batch):\n",
    "        example_batch[\"pixel_values\"] = [\n",
    "            self.transforms(img) for img in example_batch[\"image\"]\n",
    "        ]\n",
    "        del example_batch[\"image\"]\n",
    "        return example_batch\n",
    "\n",
    "train_test_valid_dataset.set_transform(Preprocess())\n"
   ]
  },
  {
   "cell_type": "code",
   "execution_count": 42,
   "id": "9ff401f5",
   "metadata": {},
   "outputs": [
    {
     "data": {
      "text/plain": [
       "ViTForImageClassification(\n",
       "  (vit): ViTModel(\n",
       "    (embeddings): ViTEmbeddings(\n",
       "      (patch_embeddings): ViTPatchEmbeddings(\n",
       "        (projection): Conv2d(3, 768, kernel_size=(16, 16), stride=(16, 16))\n",
       "      )\n",
       "      (dropout): Dropout(p=0.0, inplace=False)\n",
       "    )\n",
       "    (encoder): ViTEncoder(\n",
       "      (layer): ModuleList(\n",
       "        (0): ViTLayer(\n",
       "          (attention): ViTAttention(\n",
       "            (attention): ViTSelfAttention(\n",
       "              (query): Linear(in_features=768, out_features=768, bias=True)\n",
       "              (key): Linear(in_features=768, out_features=768, bias=True)\n",
       "              (value): Linear(in_features=768, out_features=768, bias=True)\n",
       "              (dropout): Dropout(p=0.0, inplace=False)\n",
       "            )\n",
       "            (output): ViTSelfOutput(\n",
       "              (dense): Linear(in_features=768, out_features=768, bias=True)\n",
       "              (dropout): Dropout(p=0.0, inplace=False)\n",
       "            )\n",
       "          )\n",
       "          (intermediate): ViTIntermediate(\n",
       "            (dense): Linear(in_features=768, out_features=3072, bias=True)\n",
       "            (intermediate_act_fn): GELUActivation()\n",
       "          )\n",
       "          (output): ViTOutput(\n",
       "            (dense): Linear(in_features=3072, out_features=768, bias=True)\n",
       "            (dropout): Dropout(p=0.0, inplace=False)\n",
       "          )\n",
       "          (layernorm_before): LayerNorm((768,), eps=1e-12, elementwise_affine=True)\n",
       "          (layernorm_after): LayerNorm((768,), eps=1e-12, elementwise_affine=True)\n",
       "        )\n",
       "        (1): ViTLayer(\n",
       "          (attention): ViTAttention(\n",
       "            (attention): ViTSelfAttention(\n",
       "              (query): Linear(in_features=768, out_features=768, bias=True)\n",
       "              (key): Linear(in_features=768, out_features=768, bias=True)\n",
       "              (value): Linear(in_features=768, out_features=768, bias=True)\n",
       "              (dropout): Dropout(p=0.0, inplace=False)\n",
       "            )\n",
       "            (output): ViTSelfOutput(\n",
       "              (dense): Linear(in_features=768, out_features=768, bias=True)\n",
       "              (dropout): Dropout(p=0.0, inplace=False)\n",
       "            )\n",
       "          )\n",
       "          (intermediate): ViTIntermediate(\n",
       "            (dense): Linear(in_features=768, out_features=3072, bias=True)\n",
       "            (intermediate_act_fn): GELUActivation()\n",
       "          )\n",
       "          (output): ViTOutput(\n",
       "            (dense): Linear(in_features=3072, out_features=768, bias=True)\n",
       "            (dropout): Dropout(p=0.0, inplace=False)\n",
       "          )\n",
       "          (layernorm_before): LayerNorm((768,), eps=1e-12, elementwise_affine=True)\n",
       "          (layernorm_after): LayerNorm((768,), eps=1e-12, elementwise_affine=True)\n",
       "        )\n",
       "        (2): ViTLayer(\n",
       "          (attention): ViTAttention(\n",
       "            (attention): ViTSelfAttention(\n",
       "              (query): Linear(in_features=768, out_features=768, bias=True)\n",
       "              (key): Linear(in_features=768, out_features=768, bias=True)\n",
       "              (value): Linear(in_features=768, out_features=768, bias=True)\n",
       "              (dropout): Dropout(p=0.0, inplace=False)\n",
       "            )\n",
       "            (output): ViTSelfOutput(\n",
       "              (dense): Linear(in_features=768, out_features=768, bias=True)\n",
       "              (dropout): Dropout(p=0.0, inplace=False)\n",
       "            )\n",
       "          )\n",
       "          (intermediate): ViTIntermediate(\n",
       "            (dense): Linear(in_features=768, out_features=3072, bias=True)\n",
       "            (intermediate_act_fn): GELUActivation()\n",
       "          )\n",
       "          (output): ViTOutput(\n",
       "            (dense): Linear(in_features=3072, out_features=768, bias=True)\n",
       "            (dropout): Dropout(p=0.0, inplace=False)\n",
       "          )\n",
       "          (layernorm_before): LayerNorm((768,), eps=1e-12, elementwise_affine=True)\n",
       "          (layernorm_after): LayerNorm((768,), eps=1e-12, elementwise_affine=True)\n",
       "        )\n",
       "        (3): ViTLayer(\n",
       "          (attention): ViTAttention(\n",
       "            (attention): ViTSelfAttention(\n",
       "              (query): Linear(in_features=768, out_features=768, bias=True)\n",
       "              (key): Linear(in_features=768, out_features=768, bias=True)\n",
       "              (value): Linear(in_features=768, out_features=768, bias=True)\n",
       "              (dropout): Dropout(p=0.0, inplace=False)\n",
       "            )\n",
       "            (output): ViTSelfOutput(\n",
       "              (dense): Linear(in_features=768, out_features=768, bias=True)\n",
       "              (dropout): Dropout(p=0.0, inplace=False)\n",
       "            )\n",
       "          )\n",
       "          (intermediate): ViTIntermediate(\n",
       "            (dense): Linear(in_features=768, out_features=3072, bias=True)\n",
       "            (intermediate_act_fn): GELUActivation()\n",
       "          )\n",
       "          (output): ViTOutput(\n",
       "            (dense): Linear(in_features=3072, out_features=768, bias=True)\n",
       "            (dropout): Dropout(p=0.0, inplace=False)\n",
       "          )\n",
       "          (layernorm_before): LayerNorm((768,), eps=1e-12, elementwise_affine=True)\n",
       "          (layernorm_after): LayerNorm((768,), eps=1e-12, elementwise_affine=True)\n",
       "        )\n",
       "        (4): ViTLayer(\n",
       "          (attention): ViTAttention(\n",
       "            (attention): ViTSelfAttention(\n",
       "              (query): Linear(in_features=768, out_features=768, bias=True)\n",
       "              (key): Linear(in_features=768, out_features=768, bias=True)\n",
       "              (value): Linear(in_features=768, out_features=768, bias=True)\n",
       "              (dropout): Dropout(p=0.0, inplace=False)\n",
       "            )\n",
       "            (output): ViTSelfOutput(\n",
       "              (dense): Linear(in_features=768, out_features=768, bias=True)\n",
       "              (dropout): Dropout(p=0.0, inplace=False)\n",
       "            )\n",
       "          )\n",
       "          (intermediate): ViTIntermediate(\n",
       "            (dense): Linear(in_features=768, out_features=3072, bias=True)\n",
       "            (intermediate_act_fn): GELUActivation()\n",
       "          )\n",
       "          (output): ViTOutput(\n",
       "            (dense): Linear(in_features=3072, out_features=768, bias=True)\n",
       "            (dropout): Dropout(p=0.0, inplace=False)\n",
       "          )\n",
       "          (layernorm_before): LayerNorm((768,), eps=1e-12, elementwise_affine=True)\n",
       "          (layernorm_after): LayerNorm((768,), eps=1e-12, elementwise_affine=True)\n",
       "        )\n",
       "        (5): ViTLayer(\n",
       "          (attention): ViTAttention(\n",
       "            (attention): ViTSelfAttention(\n",
       "              (query): Linear(in_features=768, out_features=768, bias=True)\n",
       "              (key): Linear(in_features=768, out_features=768, bias=True)\n",
       "              (value): Linear(in_features=768, out_features=768, bias=True)\n",
       "              (dropout): Dropout(p=0.0, inplace=False)\n",
       "            )\n",
       "            (output): ViTSelfOutput(\n",
       "              (dense): Linear(in_features=768, out_features=768, bias=True)\n",
       "              (dropout): Dropout(p=0.0, inplace=False)\n",
       "            )\n",
       "          )\n",
       "          (intermediate): ViTIntermediate(\n",
       "            (dense): Linear(in_features=768, out_features=3072, bias=True)\n",
       "            (intermediate_act_fn): GELUActivation()\n",
       "          )\n",
       "          (output): ViTOutput(\n",
       "            (dense): Linear(in_features=3072, out_features=768, bias=True)\n",
       "            (dropout): Dropout(p=0.0, inplace=False)\n",
       "          )\n",
       "          (layernorm_before): LayerNorm((768,), eps=1e-12, elementwise_affine=True)\n",
       "          (layernorm_after): LayerNorm((768,), eps=1e-12, elementwise_affine=True)\n",
       "        )\n",
       "        (6): ViTLayer(\n",
       "          (attention): ViTAttention(\n",
       "            (attention): ViTSelfAttention(\n",
       "              (query): Linear(in_features=768, out_features=768, bias=True)\n",
       "              (key): Linear(in_features=768, out_features=768, bias=True)\n",
       "              (value): Linear(in_features=768, out_features=768, bias=True)\n",
       "              (dropout): Dropout(p=0.0, inplace=False)\n",
       "            )\n",
       "            (output): ViTSelfOutput(\n",
       "              (dense): Linear(in_features=768, out_features=768, bias=True)\n",
       "              (dropout): Dropout(p=0.0, inplace=False)\n",
       "            )\n",
       "          )\n",
       "          (intermediate): ViTIntermediate(\n",
       "            (dense): Linear(in_features=768, out_features=3072, bias=True)\n",
       "            (intermediate_act_fn): GELUActivation()\n",
       "          )\n",
       "          (output): ViTOutput(\n",
       "            (dense): Linear(in_features=3072, out_features=768, bias=True)\n",
       "            (dropout): Dropout(p=0.0, inplace=False)\n",
       "          )\n",
       "          (layernorm_before): LayerNorm((768,), eps=1e-12, elementwise_affine=True)\n",
       "          (layernorm_after): LayerNorm((768,), eps=1e-12, elementwise_affine=True)\n",
       "        )\n",
       "        (7): ViTLayer(\n",
       "          (attention): ViTAttention(\n",
       "            (attention): ViTSelfAttention(\n",
       "              (query): Linear(in_features=768, out_features=768, bias=True)\n",
       "              (key): Linear(in_features=768, out_features=768, bias=True)\n",
       "              (value): Linear(in_features=768, out_features=768, bias=True)\n",
       "              (dropout): Dropout(p=0.0, inplace=False)\n",
       "            )\n",
       "            (output): ViTSelfOutput(\n",
       "              (dense): Linear(in_features=768, out_features=768, bias=True)\n",
       "              (dropout): Dropout(p=0.0, inplace=False)\n",
       "            )\n",
       "          )\n",
       "          (intermediate): ViTIntermediate(\n",
       "            (dense): Linear(in_features=768, out_features=3072, bias=True)\n",
       "            (intermediate_act_fn): GELUActivation()\n",
       "          )\n",
       "          (output): ViTOutput(\n",
       "            (dense): Linear(in_features=3072, out_features=768, bias=True)\n",
       "            (dropout): Dropout(p=0.0, inplace=False)\n",
       "          )\n",
       "          (layernorm_before): LayerNorm((768,), eps=1e-12, elementwise_affine=True)\n",
       "          (layernorm_after): LayerNorm((768,), eps=1e-12, elementwise_affine=True)\n",
       "        )\n",
       "        (8): ViTLayer(\n",
       "          (attention): ViTAttention(\n",
       "            (attention): ViTSelfAttention(\n",
       "              (query): Linear(in_features=768, out_features=768, bias=True)\n",
       "              (key): Linear(in_features=768, out_features=768, bias=True)\n",
       "              (value): Linear(in_features=768, out_features=768, bias=True)\n",
       "              (dropout): Dropout(p=0.0, inplace=False)\n",
       "            )\n",
       "            (output): ViTSelfOutput(\n",
       "              (dense): Linear(in_features=768, out_features=768, bias=True)\n",
       "              (dropout): Dropout(p=0.0, inplace=False)\n",
       "            )\n",
       "          )\n",
       "          (intermediate): ViTIntermediate(\n",
       "            (dense): Linear(in_features=768, out_features=3072, bias=True)\n",
       "            (intermediate_act_fn): GELUActivation()\n",
       "          )\n",
       "          (output): ViTOutput(\n",
       "            (dense): Linear(in_features=3072, out_features=768, bias=True)\n",
       "            (dropout): Dropout(p=0.0, inplace=False)\n",
       "          )\n",
       "          (layernorm_before): LayerNorm((768,), eps=1e-12, elementwise_affine=True)\n",
       "          (layernorm_after): LayerNorm((768,), eps=1e-12, elementwise_affine=True)\n",
       "        )\n",
       "        (9): ViTLayer(\n",
       "          (attention): ViTAttention(\n",
       "            (attention): ViTSelfAttention(\n",
       "              (query): Linear(in_features=768, out_features=768, bias=True)\n",
       "              (key): Linear(in_features=768, out_features=768, bias=True)\n",
       "              (value): Linear(in_features=768, out_features=768, bias=True)\n",
       "              (dropout): Dropout(p=0.0, inplace=False)\n",
       "            )\n",
       "            (output): ViTSelfOutput(\n",
       "              (dense): Linear(in_features=768, out_features=768, bias=True)\n",
       "              (dropout): Dropout(p=0.0, inplace=False)\n",
       "            )\n",
       "          )\n",
       "          (intermediate): ViTIntermediate(\n",
       "            (dense): Linear(in_features=768, out_features=3072, bias=True)\n",
       "            (intermediate_act_fn): GELUActivation()\n",
       "          )\n",
       "          (output): ViTOutput(\n",
       "            (dense): Linear(in_features=3072, out_features=768, bias=True)\n",
       "            (dropout): Dropout(p=0.0, inplace=False)\n",
       "          )\n",
       "          (layernorm_before): LayerNorm((768,), eps=1e-12, elementwise_affine=True)\n",
       "          (layernorm_after): LayerNorm((768,), eps=1e-12, elementwise_affine=True)\n",
       "        )\n",
       "        (10): ViTLayer(\n",
       "          (attention): ViTAttention(\n",
       "            (attention): ViTSelfAttention(\n",
       "              (query): Linear(in_features=768, out_features=768, bias=True)\n",
       "              (key): Linear(in_features=768, out_features=768, bias=True)\n",
       "              (value): Linear(in_features=768, out_features=768, bias=True)\n",
       "              (dropout): Dropout(p=0.0, inplace=False)\n",
       "            )\n",
       "            (output): ViTSelfOutput(\n",
       "              (dense): Linear(in_features=768, out_features=768, bias=True)\n",
       "              (dropout): Dropout(p=0.0, inplace=False)\n",
       "            )\n",
       "          )\n",
       "          (intermediate): ViTIntermediate(\n",
       "            (dense): Linear(in_features=768, out_features=3072, bias=True)\n",
       "            (intermediate_act_fn): GELUActivation()\n",
       "          )\n",
       "          (output): ViTOutput(\n",
       "            (dense): Linear(in_features=3072, out_features=768, bias=True)\n",
       "            (dropout): Dropout(p=0.0, inplace=False)\n",
       "          )\n",
       "          (layernorm_before): LayerNorm((768,), eps=1e-12, elementwise_affine=True)\n",
       "          (layernorm_after): LayerNorm((768,), eps=1e-12, elementwise_affine=True)\n",
       "        )\n",
       "        (11): ViTLayer(\n",
       "          (attention): ViTAttention(\n",
       "            (attention): ViTSelfAttention(\n",
       "              (query): Linear(in_features=768, out_features=768, bias=True)\n",
       "              (key): Linear(in_features=768, out_features=768, bias=True)\n",
       "              (value): Linear(in_features=768, out_features=768, bias=True)\n",
       "              (dropout): Dropout(p=0.0, inplace=False)\n",
       "            )\n",
       "            (output): ViTSelfOutput(\n",
       "              (dense): Linear(in_features=768, out_features=768, bias=True)\n",
       "              (dropout): Dropout(p=0.0, inplace=False)\n",
       "            )\n",
       "          )\n",
       "          (intermediate): ViTIntermediate(\n",
       "            (dense): Linear(in_features=768, out_features=3072, bias=True)\n",
       "            (intermediate_act_fn): GELUActivation()\n",
       "          )\n",
       "          (output): ViTOutput(\n",
       "            (dense): Linear(in_features=3072, out_features=768, bias=True)\n",
       "            (dropout): Dropout(p=0.0, inplace=False)\n",
       "          )\n",
       "          (layernorm_before): LayerNorm((768,), eps=1e-12, elementwise_affine=True)\n",
       "          (layernorm_after): LayerNorm((768,), eps=1e-12, elementwise_affine=True)\n",
       "        )\n",
       "      )\n",
       "    )\n",
       "    (layernorm): LayerNorm((768,), eps=1e-12, elementwise_affine=True)\n",
       "  )\n",
       "  (classifier): Linear(in_features=768, out_features=3, bias=True)\n",
       ")"
      ]
     },
     "execution_count": 42,
     "metadata": {},
     "output_type": "execute_result"
    }
   ],
   "source": [
    "model.to('cuda')"
   ]
  },
  {
   "cell_type": "code",
   "execution_count": 43,
   "id": "4dfae547",
   "metadata": {},
   "outputs": [],
   "source": [
    "from transformers import Trainer\n",
    "\n",
    "trainer = Trainer(\n",
    "    model=model,\n",
    "    args=training_args,\n",
    "    data_collator=data_collator,\n",
    "    train_dataset=train_test_valid_dataset[\"train\"],\n",
    "    eval_dataset=train_test_valid_dataset[\"validate\"],\n",
    "    tokenizer=image_processor,\n",
    "    compute_metrics=compute_metrics,\n",
    ")"
   ]
  },
  {
   "cell_type": "code",
   "execution_count": 44,
   "id": "846d90be",
   "metadata": {},
   "outputs": [
    {
     "name": "stderr",
     "output_type": "stream",
     "text": [
      "/home/ray/anaconda3/lib/python3.8/site-packages/transformers/optimization.py:306: FutureWarning: This implementation of AdamW is deprecated and will be removed in a future version. Use the PyTorch implementation torch.optim.AdamW instead, or set `no_deprecation_warning=True` to disable this warning\n",
      "  warnings.warn(\n",
      "***** Running training *****\n",
      "  Num examples = 7795\n",
      "  Num Epochs = 10\n",
      "  Instantaneous batch size per device = 224\n",
      "  Total train batch size (w. parallel, distributed & accumulation) = 2688\n",
      "  Gradient Accumulation steps = 4\n",
      "  Total optimization steps = 30\n",
      "  Number of trainable parameters = 85800963\n",
      "/home/ray/anaconda3/lib/python3.8/site-packages/torch/nn/parallel/_functions.py:68: UserWarning: Was asked to gather along dimension 0, but all input tensors were scalars; will instead unsqueeze and return a vector.\n",
      "  warnings.warn('Was asked to gather along dimension 0, but all '\n"
     ]
    },
    {
     "data": {
      "text/html": [
       "\n",
       "    <div>\n",
       "      \n",
       "      <progress value='4' max='30' style='width:300px; height:20px; vertical-align: middle;'></progress>\n",
       "      [ 4/30 00:21 < 04:35, 0.09 it/s, Epoch 1/10]\n",
       "    </div>\n",
       "    <table border=\"1\" class=\"dataframe\">\n",
       "  <thead>\n",
       " <tr style=\"text-align: left;\">\n",
       "      <th>Epoch</th>\n",
       "      <th>Training Loss</th>\n",
       "      <th>Validation Loss</th>\n",
       "    </tr>\n",
       "  </thead>\n",
       "  <tbody>\n",
       "  </tbody>\n",
       "</table><p>\n",
       "    <div>\n",
       "      \n",
       "      <progress value='1' max='2' style='width:300px; height:20px; vertical-align: middle;'></progress>\n",
       "      [1/2 : < :]\n",
       "    </div>\n",
       "    "
      ],
      "text/plain": [
       "<IPython.core.display.HTML object>"
      ]
     },
     "metadata": {},
     "output_type": "display_data"
    },
    {
     "name": "stderr",
     "output_type": "stream",
     "text": [
      "***** Running Evaluation *****\n",
      "  Num examples = 974\n",
      "  Batch size = 672\n",
      "  Num examples = 974\n",
      "  Batch size = 672\n",
      "Saving model checkpoint to my_tapelegen_model/checkpoint-3\n",
      "Configuration saved in my_tapelegen_model/checkpoint-3/config.json\n",
      "Saving model checkpoint to my_tapelegen_model/checkpoint-3\n",
      "Configuration saved in my_tapelegen_model/checkpoint-3/config.json\n",
      "Model weights saved in my_tapelegen_model/checkpoint-3/pytorch_model.bin\n",
      "Image processor saved in my_tapelegen_model/checkpoint-3/preprocessor_config.json\n",
      "/home/ray/anaconda3/lib/python3.8/site-packages/torch/nn/parallel/_functions.py:68: UserWarning: Was asked to gather along dimension 0, but all input tensors were scalars; will instead unsqueeze and return a vector.\n",
      "  warnings.warn('Was asked to gather along dimension 0, but all '\n",
      "***** Running Evaluation *****\n",
      "  Num examples = 974\n",
      "  Batch size = 672\n",
      "Saving model checkpoint to my_tapelegen_model/checkpoint-6\n",
      "Configuration saved in my_tapelegen_model/checkpoint-6/config.json\n",
      "Model weights saved in my_tapelegen_model/checkpoint-6/pytorch_model.bin\n",
      "Image processor saved in my_tapelegen_model/checkpoint-6/preprocessor_config.json\n",
      "/home/ray/anaconda3/lib/python3.8/site-packages/torch/nn/parallel/_functions.py:68: UserWarning: Was asked to gather along dimension 0, but all input tensors were scalars; will instead unsqueeze and return a vector.\n",
      "  warnings.warn('Was asked to gather along dimension 0, but all '\n",
      "***** Running Evaluation *****\n",
      "  Num examples = 974\n",
      "  Batch size = 672\n",
      "Saving model checkpoint to my_tapelegen_model/checkpoint-9\n",
      "Configuration saved in my_tapelegen_model/checkpoint-9/config.json\n",
      "Model weights saved in my_tapelegen_model/checkpoint-9/pytorch_model.bin\n",
      "Image processor saved in my_tapelegen_model/checkpoint-9/preprocessor_config.json\n",
      "/home/ray/anaconda3/lib/python3.8/site-packages/torch/nn/parallel/_functions.py:68: UserWarning: Was asked to gather along dimension 0, but all input tensors were scalars; will instead unsqueeze and return a vector.\n",
      "  warnings.warn('Was asked to gather along dimension 0, but all '\n",
      "***** Running Evaluation *****\n",
      "  Num examples = 974\n",
      "  Batch size = 672\n",
      "Saving model checkpoint to my_tapelegen_model/checkpoint-12\n",
      "Configuration saved in my_tapelegen_model/checkpoint-12/config.json\n",
      "Model weights saved in my_tapelegen_model/checkpoint-12/pytorch_model.bin\n",
      "Image processor saved in my_tapelegen_model/checkpoint-12/preprocessor_config.json\n",
      "/home/ray/anaconda3/lib/python3.8/site-packages/torch/nn/parallel/_functions.py:68: UserWarning: Was asked to gather along dimension 0, but all input tensors were scalars; will instead unsqueeze and return a vector.\n",
      "  warnings.warn('Was asked to gather along dimension 0, but all '\n",
      "***** Running Evaluation *****\n",
      "  Num examples = 974\n",
      "  Batch size = 672\n",
      "Saving model checkpoint to my_tapelegen_model/checkpoint-15\n",
      "Configuration saved in my_tapelegen_model/checkpoint-15/config.json\n",
      "Model weights saved in my_tapelegen_model/checkpoint-15/pytorch_model.bin\n",
      "Image processor saved in my_tapelegen_model/checkpoint-15/preprocessor_config.json\n",
      "/home/ray/anaconda3/lib/python3.8/site-packages/torch/nn/parallel/_functions.py:68: UserWarning: Was asked to gather along dimension 0, but all input tensors were scalars; will instead unsqueeze and return a vector.\n",
      "  warnings.warn('Was asked to gather along dimension 0, but all '\n",
      "***** Running Evaluation *****\n",
      "  Num examples = 974\n",
      "  Batch size = 672\n",
      "Saving model checkpoint to my_tapelegen_model/checkpoint-18\n",
      "Configuration saved in my_tapelegen_model/checkpoint-18/config.json\n",
      "Model weights saved in my_tapelegen_model/checkpoint-18/pytorch_model.bin\n",
      "Image processor saved in my_tapelegen_model/checkpoint-18/preprocessor_config.json\n",
      "/home/ray/anaconda3/lib/python3.8/site-packages/torch/nn/parallel/_functions.py:68: UserWarning: Was asked to gather along dimension 0, but all input tensors were scalars; will instead unsqueeze and return a vector.\n",
      "  warnings.warn('Was asked to gather along dimension 0, but all '\n",
      "***** Running Evaluation *****\n",
      "  Num examples = 974\n",
      "  Batch size = 672\n",
      "Saving model checkpoint to my_tapelegen_model/checkpoint-21\n",
      "Configuration saved in my_tapelegen_model/checkpoint-21/config.json\n",
      "Model weights saved in my_tapelegen_model/checkpoint-21/pytorch_model.bin\n",
      "Image processor saved in my_tapelegen_model/checkpoint-21/preprocessor_config.json\n",
      "/home/ray/anaconda3/lib/python3.8/site-packages/torch/nn/parallel/_functions.py:68: UserWarning: Was asked to gather along dimension 0, but all input tensors were scalars; will instead unsqueeze and return a vector.\n",
      "  warnings.warn('Was asked to gather along dimension 0, but all '\n",
      "***** Running Evaluation *****\n",
      "  Num examples = 974\n",
      "  Batch size = 672\n",
      "Saving model checkpoint to my_tapelegen_model/checkpoint-24\n",
      "Configuration saved in my_tapelegen_model/checkpoint-24/config.json\n",
      "Model weights saved in my_tapelegen_model/checkpoint-24/pytorch_model.bin\n",
      "Image processor saved in my_tapelegen_model/checkpoint-24/preprocessor_config.json\n",
      "/home/ray/anaconda3/lib/python3.8/site-packages/torch/nn/parallel/_functions.py:68: UserWarning: Was asked to gather along dimension 0, but all input tensors were scalars; will instead unsqueeze and return a vector.\n",
      "  warnings.warn('Was asked to gather along dimension 0, but all '\n",
      "***** Running Evaluation *****\n",
      "  Num examples = 974\n",
      "  Batch size = 672\n",
      "Saving model checkpoint to my_tapelegen_model/checkpoint-27\n",
      "Configuration saved in my_tapelegen_model/checkpoint-27/config.json\n",
      "Model weights saved in my_tapelegen_model/checkpoint-27/pytorch_model.bin\n",
      "Image processor saved in my_tapelegen_model/checkpoint-27/preprocessor_config.json\n",
      "/home/ray/anaconda3/lib/python3.8/site-packages/torch/nn/parallel/_functions.py:68: UserWarning: Was asked to gather along dimension 0, but all input tensors were scalars; will instead unsqueeze and return a vector.\n",
      "  warnings.warn('Was asked to gather along dimension 0, but all '\n",
      "***** Running Evaluation *****\n",
      "  Num examples = 974\n",
      "  Batch size = 672\n",
      "Saving model checkpoint to my_tapelegen_model/checkpoint-30\n",
      "Configuration saved in my_tapelegen_model/checkpoint-30/config.json\n",
      "Model weights saved in my_tapelegen_model/checkpoint-30/pytorch_model.bin\n",
      "Image processor saved in my_tapelegen_model/checkpoint-30/preprocessor_config.json\n",
      "\n",
      "\n",
      "Training completed. Do not forget to share your model on huggingface.co/models =)\n",
      "\n",
      "\n",
      "Loading best model from my_tapelegen_model/checkpoint-30 (score: 0.9414784394250514).\n"
     ]
    },
    {
     "data": {
      "text/plain": [
       "TrainOutput(global_step=30, training_loss=0.5673558076222738, metrics={'train_runtime': 378.8442, 'train_samples_per_second': 205.757, 'train_steps_per_second': 0.079, 'total_flos': 6.040554729553613e+18, 'train_loss': 0.5673558076222738, 'epoch': 10.0})"
      ]
     },
     "execution_count": 44,
     "metadata": {},
     "output_type": "execute_result"
    }
   ],
   "source": [
    "trainer.train()"
   ]
  },
  {
   "cell_type": "code",
   "execution_count": 45,
   "id": "61afd345",
   "metadata": {},
   "outputs": [
    {
     "data": {
      "text/plain": [
       "[{'eval_loss': 1.0313174724578857,\n",
       "  'eval_accuracy': 0.7525667351129364,\n",
       "  'eval_runtime': 2.7348,\n",
       "  'eval_samples_per_second': 356.154,\n",
       "  'eval_steps_per_second': 0.731,\n",
       "  'epoch': 1.0,\n",
       "  'step': 3},\n",
       " {'eval_loss': 0.8224616646766663,\n",
       "  'eval_accuracy': 0.9137577002053389,\n",
       "  'eval_runtime': 2.6111,\n",
       "  'eval_samples_per_second': 373.029,\n",
       "  'eval_steps_per_second': 0.766,\n",
       "  'epoch': 2.0,\n",
       "  'step': 6},\n",
       " {'eval_loss': 0.6634659171104431,\n",
       "  'eval_accuracy': 0.9240246406570842,\n",
       "  'eval_runtime': 2.6269,\n",
       "  'eval_samples_per_second': 370.782,\n",
       "  'eval_steps_per_second': 0.761,\n",
       "  'epoch': 3.0,\n",
       "  'step': 9},\n",
       " {'loss': 0.917,\n",
       "  'learning_rate': 3.7037037037037037e-05,\n",
       "  'epoch': 3.33,\n",
       "  'step': 10},\n",
       " {'eval_loss': 0.5364565253257751,\n",
       "  'eval_accuracy': 0.9322381930184805,\n",
       "  'eval_runtime': 2.6217,\n",
       "  'eval_samples_per_second': 371.509,\n",
       "  'eval_steps_per_second': 0.763,\n",
       "  'epoch': 4.0,\n",
       "  'step': 12},\n",
       " {'eval_loss': 0.44699034094810486,\n",
       "  'eval_accuracy': 0.9322381930184805,\n",
       "  'eval_runtime': 2.742,\n",
       "  'eval_samples_per_second': 355.213,\n",
       "  'eval_steps_per_second': 0.729,\n",
       "  'epoch': 5.0,\n",
       "  'step': 15},\n",
       " {'eval_loss': 0.38792189955711365,\n",
       "  'eval_accuracy': 0.9342915811088296,\n",
       "  'eval_runtime': 2.618,\n",
       "  'eval_samples_per_second': 372.042,\n",
       "  'eval_steps_per_second': 0.764,\n",
       "  'epoch': 6.0,\n",
       "  'step': 18},\n",
       " {'loss': 0.4679,\n",
       "  'learning_rate': 1.8518518518518518e-05,\n",
       "  'epoch': 6.67,\n",
       "  'step': 20},\n",
       " {'eval_loss': 0.3494594693183899,\n",
       "  'eval_accuracy': 0.9383983572895277,\n",
       "  'eval_runtime': 2.9293,\n",
       "  'eval_samples_per_second': 332.501,\n",
       "  'eval_steps_per_second': 0.683,\n",
       "  'epoch': 7.0,\n",
       "  'step': 21},\n",
       " {'eval_loss': 0.3244915306568146,\n",
       "  'eval_accuracy': 0.9383983572895277,\n",
       "  'eval_runtime': 2.6221,\n",
       "  'eval_samples_per_second': 371.454,\n",
       "  'eval_steps_per_second': 0.763,\n",
       "  'epoch': 8.0,\n",
       "  'step': 24},\n",
       " {'eval_loss': 0.3103078007698059,\n",
       "  'eval_accuracy': 0.9404517453798767,\n",
       "  'eval_runtime': 2.6041,\n",
       "  'eval_samples_per_second': 374.021,\n",
       "  'eval_steps_per_second': 0.768,\n",
       "  'epoch': 9.0,\n",
       "  'step': 27},\n",
       " {'loss': 0.3172, 'learning_rate': 0.0, 'epoch': 10.0, 'step': 30},\n",
       " {'eval_loss': 0.305009663105011,\n",
       "  'eval_accuracy': 0.9414784394250514,\n",
       "  'eval_runtime': 2.6301,\n",
       "  'eval_samples_per_second': 370.322,\n",
       "  'eval_steps_per_second': 0.76,\n",
       "  'epoch': 10.0,\n",
       "  'step': 30},\n",
       " {'train_runtime': 378.8442,\n",
       "  'train_samples_per_second': 205.757,\n",
       "  'train_steps_per_second': 0.079,\n",
       "  'total_flos': 6.040554729553613e+18,\n",
       "  'train_loss': 0.5673558076222738,\n",
       "  'epoch': 10.0,\n",
       "  'step': 30}]"
      ]
     },
     "execution_count": 45,
     "metadata": {},
     "output_type": "execute_result"
    }
   ],
   "source": [
    "trainer.state.log_history"
   ]
  },
  {
   "cell_type": "code",
   "execution_count": 46,
   "id": "eb57bc30",
   "metadata": {},
   "outputs": [],
   "source": [
    "# iterate over the log history and collect the value eval_loss in a list if the key exists in the dict item\n",
    "eval_loss = [item[\"eval_loss\"] for item in trainer.state.log_history if \"eval_loss\" in item.keys()]"
   ]
  },
  {
   "cell_type": "code",
   "execution_count": 47,
   "id": "3a82061d",
   "metadata": {},
   "outputs": [],
   "source": [
    "# now collect the accuracy in a list ehich has the key eval_accuracy\n",
    "eval_accuracy = [item[\"eval_accuracy\"] for item in trainer.state.log_history if \"eval_accuracy\" in item.keys()]"
   ]
  },
  {
   "cell_type": "code",
   "execution_count": 48,
   "id": "133de1a6",
   "metadata": {},
   "outputs": [
    {
     "data": {
      "image/png": "[encoded data removed]",
      "text/plain": [
       "<Figure size 640x480 with 2 Axes>"
      ]
     },
     "metadata": {},
     "output_type": "display_data"
    }
   ],
   "source": [
    "# plot eval loss and accuracy in the same plot with two y axis\n",
    "\n",
    "import matplotlib.pyplot as plt\n",
    "\n",
    "fig, ax1 = plt.subplots()\n",
    "\n",
    "color = 'tab:red'\n",
    "ax1.set_xlabel('epoch')\n",
    "ax1.set_ylabel('eval_loss', color=color)\n",
    "ax1.plot(eval_loss, color=color)\n",
    "ax1.tick_params(axis='y', labelcolor=color)\n",
    "\n",
    "ax2 = ax1.twinx()\n",
    "\n",
    "color = 'tab:blue'\n",
    "ax2.set_ylabel('eval_accuracy', color=color)\n",
    "ax2.plot(eval_accuracy, color=color)\n",
    "ax2.tick_params(axis='y', labelcolor=color)\n",
    "\n",
    "fig.tight_layout()\n",
    "plt.show()\n"
   ]
  },
  {
   "cell_type": "code",
   "execution_count": 49,
   "id": "d68063b3",
   "metadata": {},
   "outputs": [
    {
     "name": "stderr",
     "output_type": "stream",
     "text": [
      "Saving model checkpoint to my_best_tapelegen_model\n",
      "Configuration saved in my_best_tapelegen_model/config.json\n",
      "Model weights saved in my_best_tapelegen_model/pytorch_model.bin\n",
      "Image processor saved in my_best_tapelegen_model/preprocessor_config.json\n"
     ]
    },
    {
     "name": "stdout",
     "output_type": "stream",
     "text": [
      "updating: my_best_tapelegen_model/ (stored 0%)\n",
      "updating: my_best_tapelegen_model/training_args.bin (deflated 48%)\n",
      "updating: my_best_tapelegen_model/config.json (deflated 48%)\n",
      "updating: my_best_tapelegen_model/pytorch_model.bin (deflated 7%)\n",
      "updating: my_best_tapelegen_model/preprocessor_config.json (deflated 47%)\n"
     ]
    }
   ],
   "source": [
    "# get local checkpoints of trained model\n",
    "trainer.save_model(\"my_best_tapelegen_model\")\n",
    "!zip -r my_best_tapelegen_model.zip my_best_tapelegen_model \n",
    "bucket.upload_file('my_best_tapelegen_model.zip', 'dlr/my_best_tapelegen_model.zip')"
   ]
  }
 ],
 "metadata": {
  "kernelspec": {
   "display_name": "Python 3 (ipykernel)",
   "language": "python",
   "name": "python3"
  }
 },
 "nbformat": 4,
 "nbformat_minor": 5
}
